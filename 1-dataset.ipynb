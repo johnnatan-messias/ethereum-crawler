{
 "cells": [
  {
   "cell_type": "code",
   "execution_count": 1,
   "metadata": {},
   "outputs": [],
   "source": [
    "import gzip\n",
    "import pickle\n",
    "import os\n",
    "from tqdm.notebook import tqdm\n",
    "import requests as re\n",
    "import pandas as pd\n",
    "from ethereum import *\n",
    "from web3 import Web3"
   ]
  },
  {
   "cell_type": "code",
   "execution_count": 2,
   "metadata": {},
   "outputs": [],
   "source": [
    "path_dir = './data/'\n",
    "os.makedirs(path_dir, exist_ok=True)"
   ]
  },
  {
   "cell_type": "code",
   "execution_count": 3,
   "metadata": {},
   "outputs": [],
   "source": [
    "def load_dataset(contract_name):\n",
    "    with gzip.open(path_dir + 'events_' + contract_name + '.pkl.gz', 'rb') as f:\n",
    "        events = pickle.load(f)\n",
    "    return events\n",
    "\n",
    "\n",
    "def parse_common_attributes(event):\n",
    "    data = dict()\n",
    "    data['blockNumber'] = event['blockNumber']\n",
    "    data['transactionHash'] = event['transactionHash'].hex().lower()\n",
    "    data['blockHash'] = event['blockHash'].hex().lower()\n",
    "    data['address'] = event['address'].lower()\n",
    "    data['transactionIndex'] = event['transactionIndex']\n",
    "    data['logIndex'] = event['logIndex']\n",
    "    data['event'] = event['event']\n",
    "    return data\n",
    "\n",
    "\n",
    "def transfer_to_dataframe(events):\n",
    "    # Convert Transfer events data to dataframe\n",
    "    df = list()\n",
    "    for event in tqdm(events, desc='Loading Transfer events'):\n",
    "        data = parse_common_attributes(event)\n",
    "\n",
    "        data['from'] = event['args']['from'].lower()\n",
    "        data['to'] = event['args']['to'].lower()\n",
    "        data['value'] = event['args']['value']\n",
    "        df.append(data)\n",
    "    return pd.DataFrame(df)\n",
    "\n",
    "\n",
    "def approval_to_dataframe(events):\n",
    "    # Convert Approval events data to dataframe\n",
    "    df = list()\n",
    "    for event in tqdm(events, desc='Loading Approval events'):\n",
    "        data = parse_common_attributes(event)\n",
    "\n",
    "        data['owner'] = event['args']['owner'].lower()\n",
    "        data['spender'] = event['args']['spender'].lower()\n",
    "        data['value'] = event['args']['value']\n",
    "        df.append(data)\n",
    "    return pd.DataFrame(df)\n",
    "\n",
    "def swap_to_dataframe(events):\n",
    "    # Convert Swap events data to dataframe\n",
    "    df = list()\n",
    "    for event in tqdm(events, desc='Loading Swap events'):\n",
    "        data = parse_common_attributes(event)\n",
    "\n",
    "        data['sender'] = event['args']['sender'].lower()\n",
    "        data['recipient'] = event['args']['recipient'].lower()\n",
    "        data['amount0'] = event['args']['amount0']\n",
    "        data['amount1'] = event['args']['amount1']\n",
    "        data['sqrtPriceX96'] = event['args']['sqrtPriceX96']\n",
    "        data['liquidity'] = event['args']['liquidity']\n",
    "        data['tick'] = event['args']['tick']\n",
    "        df.append(data)\n",
    "    return pd.DataFrame(df)\n"
   ]
  },
  {
   "cell_type": "code",
   "execution_count": 4,
   "metadata": {},
   "outputs": [],
   "source": [
    "def load_blocks():\n",
    "    dfs = list()\n",
    "    filenames = [filename for filename in os.listdir(\n",
    "        path_dir) if filename.startswith('blocks_') and filename.endswith('.csv.gz')]\n",
    "    for filename in filenames:\n",
    "        df = pd.read_csv(path_dir + filename, sep=';', compression='gzip')\n",
    "        dfs.append(df)\n",
    "    dfs = pd.concat(dfs)\n",
    "    dfs.drop_duplicates(inplace=True)\n",
    "    dfs['timestamp'] = pd.to_datetime(dfs['timestamp'])\n",
    "    return dfs\n",
    "\n",
    "# Loading account balances history for specific addresses\n",
    "def compute_account_balances(transfer_df):\n",
    "    balances_history_dict = dict()\n",
    "    for _, row in tqdm(transfer_df.iterrows(), desc='Loading balances', total=transfer_df.shape[0]):\n",
    "        if row['from'] not in balances_history_dict:\n",
    "            balances_history_dict[row['from']] = {\n",
    "                'current': 0, 'history': [], 'n_from': 0, 'n_to': 0}\n",
    "        if row['to'] not in balances_history_dict:\n",
    "            balances_history_dict[row['to']] = {\n",
    "                'current': 0, 'history': [], 'n_from': 0, 'n_to': 0}\n",
    "\n",
    "        balance = row['value']/1e18\n",
    "\n",
    "        balances_history_dict[row['from']]['history'].append(\n",
    "            {'block_number': row['blockNumber'], 'timestamp': row['timestamp'],\n",
    "             'balance': balances_history_dict[row['from']]['current']-balance})\n",
    "        balances_history_dict[row['to']]['history'].append(\n",
    "            {'block_number': row['blockNumber'], 'timestamp': row['timestamp'],\n",
    "             'balance': balances_history_dict[row['to']]['current']+balance})\n",
    "\n",
    "        balances_history_dict[row['from']]['n_from'] += 1\n",
    "        balances_history_dict[row['to']]['n_to'] += 1\n",
    "\n",
    "        balances_history_dict[row['from']]['current'] -= balance\n",
    "        balances_history_dict[row['to']]['current'] += balance\n",
    "\n",
    "    print(\"There are in total {} addresses\".format(len(balances_history_dict)))\n",
    "    return balances_history_dict"
   ]
  },
  {
   "cell_type": "code",
   "execution_count": 5,
   "metadata": {},
   "outputs": [],
   "source": [
    "contract_settings = {\n",
    "    'Uniswap-DAI': {'address': to_checksum_address('0xc2e9f25be6257c210d7adf0d4cd6e3e881ba25f8'), 'start': 12_369_854, 'end': 18_362_881, 'decimals': 18},\n",
    "    # 'UniswapV3Factory': {'address': to_checksum_address('0x1f98431c8ad98523631ae4a59f267346ea31f984'), 'start': 12_369_621, 'end': 18_362_881, 'decimals': 18},\n",
    "    # 'Multicall2': {'address': to_checksum_address('0x5ba1e12693dc8f9c48aad8770482f4739beed696'), 'start': 12_336_033, 'end': 18_362_881, 'decimals': 18},\n",
    "    # 'ProxyAdmin': {'address': to_checksum_address('0xb753548f6e010e7e680ba186f9ca1bdab2e90cf2'), 'start': 12_369_623, 'end': 18_362_881, 'decimals': 18},\n",
    "    # 'TickLens': {'address': to_checksum_address('0xbfd8137f7d1516d3ea5ca83523914859ec47f573'), 'start': 12_369_625, 'end': 18_362_881, 'decimals': 18},\n",
    "    # 'Quoter': {'address': to_checksum_address('0xb27308f9f90d607463bb33ea1bebb41c27ce5ab6'), 'start': 12_369_627, 'end': 18_362_881, 'decimals': 18},\n",
    "    # 'SwapRouter': {'address': to_checksum_address('0xe592427a0aece92de3edee1f18e0157c05861564'), 'start': 12_369_634, 'end': 18_362_881, 'decimals': 18},\n",
    "    # 'NFTDescriptor': {'address': to_checksum_address('0x42b24a95702b9986e82d421cc3568932790a48ec'), 'start': 12_369_642, 'end': 18_362_881, 'decimals': 18},\n",
    "    # 'NonfungibleTokenPositionDescriptor': {'address': to_checksum_address('0x91ae842a5ffd8d12023116943e72a606179294f3'), 'start': 12_369_645, 'end': 18_362_881, 'decimals': 18},\n",
    "    # 'TransparentUpgradeableProxy': {'address': to_checksum_address('0xee6a57ec80ea46401049e92587e52f5ec1c24785'), 'start': 12_369_648, 'end': 18_362_881, 'decimals': 18},\n",
    "    # 'NonfungiblePositionManager': {'address': to_checksum_address('0xc36442b4a4522e871399cd717abdd847ab11fe88'), 'start': 12_369_651, 'end': 18_362_881, 'decimals': 18},\n",
    "    # 'V3Migrator': {'address': to_checksum_address('0xa5644e29708357803b5a882d272c41cc0df92b34'), 'start': 12_369_654, 'end': 18_362_881, 'decimals': 18},\n",
    "}\n"
   ]
  },
  {
   "cell_type": "markdown",
   "metadata": {},
   "source": [
    "# Data gathering from archive node\n"
   ]
  },
  {
   "cell_type": "code",
   "execution_count": 6,
   "metadata": {},
   "outputs": [
    {
     "name": "stdout",
     "output_type": "stream",
     "text": [
      "Is connected to Ethereum node:  True\n",
      "The most recent block is:  18392529\n"
     ]
    }
   ],
   "source": [
    "eth_node = os.environ['ETHEREUM_NODE_URL']\n",
    "\n",
    "adapter = re.adapters.HTTPAdapter(pool_connections=20, pool_maxsize=20)\n",
    "session = requests.Session()\n",
    "session.mount('http://', adapter)\n",
    "session.mount('https://', adapter)\n",
    "\n",
    "w3 = Web3(Web3.HTTPProvider(eth_node, session=session,\n",
    "          request_kwargs={'timeout': 60}))\n",
    "\n",
    "print(\"Is connected to Ethereum node: \", w3.is_connected())\n",
    "print(\"The most recent block is: \", w3.eth.block_number)"
   ]
  },
  {
   "cell_type": "code",
   "execution_count": 7,
   "metadata": {},
   "outputs": [],
   "source": [
    "contracts = {}\n",
    "for contract in contract_settings:\n",
    "    contracts[contract] = get_contract(\n",
    "        w3, contract_settings[contract]['address'])"
   ]
  },
  {
   "cell_type": "code",
   "execution_count": 8,
   "metadata": {},
   "outputs": [
    {
     "name": "stdout",
     "output_type": "stream",
     "text": [
      "Uniswap-DAI\n",
      "\t Burn\n",
      "\t Collect\n",
      "\t CollectProtocol\n",
      "\t Flash\n",
      "\t IncreaseObservationCardinalityNext\n",
      "\t Initialize\n",
      "\t Mint\n",
      "\t SetFeeProtocol\n",
      "\t Swap\n"
     ]
    }
   ],
   "source": [
    "for contract in contracts:\n",
    "    print(contract)\n",
    "    for event in contracts[contract].events:\n",
    "        print('\\t', event.event_name)"
   ]
  },
  {
   "cell_type": "code",
   "execution_count": null,
   "metadata": {},
   "outputs": [],
   "source": [
    "# Gather all contract events from contract_settings\n",
    "for contract_name in contract_settings:\n",
    "    print('====== ', contract_name, ' ======')\n",
    "    events = get_all_events_from_contract(contracts[contract_name],\n",
    "                                          start_block=contract_settings[contract_name]['start'],\n",
    "                                          end_block=contract_settings[contract_name]['end'],\n",
    "                                          batch_size=1000,\n",
    "                                          max_workers=20,\n",
    "                                          events=None)\n",
    "    with gzip.open(path_dir + 'events_' + contract_name + '.pkl.gz', 'wb') as f:\n",
    "        pickle.dump(events, f)\n"
   ]
  },
  {
   "cell_type": "code",
   "execution_count": 9,
   "metadata": {},
   "outputs": [
    {
     "data": {
      "application/vnd.jupyter.widget-view+json": {
       "model_id": "2a736083ab6f45c7a38e96145a8a3528",
       "version_major": 2,
       "version_minor": 0
      },
      "text/plain": [
       "  0%|          | 0/1 [00:00<?, ?it/s]"
      ]
     },
     "metadata": {},
     "output_type": "display_data"
    }
   ],
   "source": [
    "# Load all contract events from contract_settings\n",
    "contract_events = dict()\n",
    "for contract_name in tqdm(contract_settings):\n",
    "    contract_events[contract_name] = load_dataset(contract_name)"
   ]
  },
  {
   "cell_type": "code",
   "execution_count": 10,
   "metadata": {},
   "outputs": [
    {
     "name": "stdout",
     "output_type": "stream",
     "text": [
      "There are 10071 Burn events\n",
      "There are 8980 Collect events\n",
      "There are 0 CollectProtocol events\n",
      "There are 34 Flash events\n",
      "There are 11 IncreaseObservationCardinalityNext events\n",
      "There are 1 Initialize events\n",
      "There are 9335 Mint events\n",
      "There are 0 SetFeeProtocol events\n",
      "There are 183423 Swap events\n"
     ]
    }
   ],
   "source": [
    "for contract_name in contract_events:\n",
    "    for event_name in contract_events[contract_name]:\n",
    "        print(\n",
    "            f\"There are {len(contract_events[contract_name][event_name])} {event_name} events\")"
   ]
  },
  {
   "cell_type": "code",
   "execution_count": 12,
   "metadata": {},
   "outputs": [
    {
     "name": "stdout",
     "output_type": "stream",
     "text": [
      "There are 8951 unique transactions for Burn\n",
      "There are 8719 unique transactions for Collect\n",
      "There are 0 unique transactions for CollectProtocol\n",
      "There are 34 unique transactions for Flash\n",
      "There are 11 unique transactions for IncreaseObservationCardinalityNext\n",
      "There are 1 unique transactions for Initialize\n",
      "There are 9179 unique transactions for Mint\n",
      "There are 0 unique transactions for SetFeeProtocol\n",
      "There are 183138 unique transactions for Swap\n",
      "There are 200831 unique transactions in total\n"
     ]
    }
   ],
   "source": [
    "all_txs = set()\n",
    "for contract_name in contract_events:\n",
    "    for event_name in contract_events[contract_name]:\n",
    "        txs = set()\n",
    "        for event in contract_events[contract_name][event_name]:\n",
    "            txs.add(event['transactionHash'].hex())\n",
    "            all_txs.add(event['transactionHash'].hex())\n",
    "        print(\"There are\", len(txs), \"unique transactions for\", event_name)\n",
    "    print(\"There are\", len(all_txs), \"unique transactions in total\")\n"
   ]
  },
  {
   "cell_type": "code",
   "execution_count": 13,
   "metadata": {},
   "outputs": [],
   "source": [
    "# block_min = float('inf')\n",
    "# block_max = 0\n",
    "# for contract_name in contract_settings:\n",
    "#     block_min = min(block_min, contract_settings[contract_name]['start'])\n",
    "#     block_max = max(block_max, contract_settings[contract_name]['end'])\n",
    "# print(\"The min block and max block are: \", block_min, block_max)"
   ]
  },
  {
   "cell_type": "code",
   "execution_count": 14,
   "metadata": {},
   "outputs": [],
   "source": [
    "# # Get blocks\n",
    "# blocks = get_blocks(w3, range(block_min, block_max))\n",
    "# blocks"
   ]
  },
  {
   "cell_type": "code",
   "execution_count": 15,
   "metadata": {},
   "outputs": [
    {
     "data": {
      "application/vnd.jupyter.widget-view+json": {
       "model_id": "a7e2c2002e794ffd9a023ee09c6bb27f",
       "version_major": 2,
       "version_minor": 0
      },
      "text/plain": [
       "  0%|          | 0/1 [00:00<?, ?it/s]"
      ]
     },
     "metadata": {},
     "output_type": "display_data"
    },
    {
     "name": "stdout",
     "output_type": "stream",
     "text": [
      "There are 211855 transactions\n",
      "There are 200831 unique transactions\n"
     ]
    }
   ],
   "source": [
    "txs = list()\n",
    "for contract_name in tqdm(contract_settings):\n",
    "    events = load_dataset(contract_name)\n",
    "    for event in events:\n",
    "        txs += list(map(lambda tx: tx['transactionHash'].hex().lower(), events[event]))\n",
    "print(\"There are {} transactions\".format(len(txs)))\n",
    "txs = list(set(txs))\n",
    "print(\"There are {} unique transactions\".format(len(txs)))"
   ]
  },
  {
   "cell_type": "code",
   "execution_count": 17,
   "metadata": {},
   "outputs": [
    {
     "data": {
      "application/vnd.jupyter.widget-view+json": {
       "model_id": "1295e97462a2467ca2d911cf6175dbc7",
       "version_major": 2,
       "version_minor": 0
      },
      "text/plain": [
       "  0%|          | 0/2 [00:00<?, ?it/s]"
      ]
     },
     "metadata": {},
     "output_type": "display_data"
    },
    {
     "data": {
      "application/vnd.jupyter.widget-view+json": {
       "model_id": "619362ac420b46d0934342ca1a896f66",
       "version_major": 2,
       "version_minor": 0
      },
      "text/plain": [
       "Gathering transactions...:   0%|          | 0/199999 [00:00<?, ?it/s]"
      ]
     },
     "metadata": {},
     "output_type": "display_data"
    }
   ],
   "source": [
    "# Code to gather all transactions that triggered the events\n",
    "c = 1\n",
    "for index, thumb in tqdm(get_batch_intervals(0, len(txs), 200_000)):\n",
    "    txs_data = get_transactions(w3, txs[index:thumb])\n",
    "    with gzip.open(path_dir + 'txs_' + str(c) + '.pkl.gz', 'wb') as f:\n",
    "        pickle.dump(txs_data, f)\n",
    "    c += 1\n"
   ]
  },
  {
   "cell_type": "code",
   "execution_count": 17,
   "metadata": {},
   "outputs": [
    {
     "data": {
      "text/plain": [
       "['Uniswap-DAI']"
      ]
     },
     "execution_count": 17,
     "metadata": {},
     "output_type": "execute_result"
    }
   ],
   "source": [
    "contract_names = sorted([filename.split('_')[1][:-7] for filename in os.listdir(\n",
    "    path_dir) if filename.startswith('events_')])\n",
    "contract_names"
   ]
  },
  {
   "cell_type": "code",
   "execution_count": 18,
   "metadata": {},
   "outputs": [
    {
     "data": {
      "application/vnd.jupyter.widget-view+json": {
       "model_id": "29956300a30d404ebc4226bd10373305",
       "version_major": 2,
       "version_minor": 0
      },
      "text/plain": [
       "Loading Swap events:   0%|          | 0/183423 [00:00<?, ?it/s]"
      ]
     },
     "metadata": {},
     "output_type": "display_data"
    },
    {
     "data": {
      "text/html": [
       "<div>\n",
       "<style scoped>\n",
       "    .dataframe tbody tr th:only-of-type {\n",
       "        vertical-align: middle;\n",
       "    }\n",
       "\n",
       "    .dataframe tbody tr th {\n",
       "        vertical-align: top;\n",
       "    }\n",
       "\n",
       "    .dataframe thead th {\n",
       "        text-align: right;\n",
       "    }\n",
       "</style>\n",
       "<table border=\"1\" class=\"dataframe\">\n",
       "  <thead>\n",
       "    <tr style=\"text-align: right;\">\n",
       "      <th></th>\n",
       "      <th>blockNumber</th>\n",
       "      <th>transactionHash</th>\n",
       "      <th>blockHash</th>\n",
       "      <th>address</th>\n",
       "      <th>transactionIndex</th>\n",
       "      <th>logIndex</th>\n",
       "      <th>event</th>\n",
       "      <th>sender</th>\n",
       "      <th>recipient</th>\n",
       "      <th>amount0</th>\n",
       "      <th>amount1</th>\n",
       "      <th>sqrtPriceX96</th>\n",
       "      <th>liquidity</th>\n",
       "      <th>tick</th>\n",
       "    </tr>\n",
       "  </thead>\n",
       "  <tbody>\n",
       "    <tr>\n",
       "      <th>0</th>\n",
       "      <td>12369879</td>\n",
       "      <td>0x2bdb4298b35adf058a38dfbe85470f67da1cb76e1694...</td>\n",
       "      <td>0x7d81e60e5a2296dc38f36e343a7f3e416b1fc2f76656...</td>\n",
       "      <td>0xc2e9f25be6257c210d7adf0d4cd6e3e881ba25f8</td>\n",
       "      <td>40</td>\n",
       "      <td>91</td>\n",
       "      <td>Swap</td>\n",
       "      <td>0xe592427a0aece92de3edee1f18e0157c05861564</td>\n",
       "      <td>0x3b8ccaa89fcd432f1334d35b10ff8547001ce3e5</td>\n",
       "      <td>-33854155678824490173</td>\n",
       "      <td>10000000000000000</td>\n",
       "      <td>1364573512386034424627810688</td>\n",
       "      <td>80059851033970806503</td>\n",
       "      <td>-81234</td>\n",
       "    </tr>\n",
       "    <tr>\n",
       "      <th>1</th>\n",
       "      <td>12370126</td>\n",
       "      <td>0x1e268cf8d859b38f50d338aeaad6973b1335f5999f67...</td>\n",
       "      <td>0x611e414d1b1238fdef1bea14555e42e72cb858e6957b...</td>\n",
       "      <td>0xc2e9f25be6257c210d7adf0d4cd6e3e881ba25f8</td>\n",
       "      <td>66</td>\n",
       "      <td>92</td>\n",
       "      <td>Swap</td>\n",
       "      <td>0xe592427a0aece92de3edee1f18e0157c05861564</td>\n",
       "      <td>0x74aa01d162e6dc6a657cac857418c403d48e2d77</td>\n",
       "      <td>-336093753482074</td>\n",
       "      <td>100000000000</td>\n",
       "      <td>1364573546772589608591144427</td>\n",
       "      <td>229713263233648638236</td>\n",
       "      <td>-81234</td>\n",
       "    </tr>\n",
       "    <tr>\n",
       "      <th>2</th>\n",
       "      <td>12371051</td>\n",
       "      <td>0x5cdf9ec984fb0fe801cc529c003bcdd5271857103c19...</td>\n",
       "      <td>0x3a83712fa13bed0da97d632a3a668860e904ad00c371...</td>\n",
       "      <td>0xc2e9f25be6257c210d7adf0d4cd6e3e881ba25f8</td>\n",
       "      <td>111</td>\n",
       "      <td>361</td>\n",
       "      <td>Swap</td>\n",
       "      <td>0xe592427a0aece92de3edee1f18e0157c05861564</td>\n",
       "      <td>0x0459b3fbf7c1840ee03a63ca4aa95de48322322e</td>\n",
       "      <td>-331043258762748247602</td>\n",
       "      <td>100000000000000000</td>\n",
       "      <td>1385391852998664492209230571</td>\n",
       "      <td>379427976363351507096</td>\n",
       "      <td>-80932</td>\n",
       "    </tr>\n",
       "    <tr>\n",
       "      <th>3</th>\n",
       "      <td>12371223</td>\n",
       "      <td>0x3d71709ade6b409b2223c6a3ef7356646f615d894802...</td>\n",
       "      <td>0x40ec7fffbae4b145d12f8c8a8e340b3d3bfd81ffbd77...</td>\n",
       "      <td>0xc2e9f25be6257c210d7adf0d4cd6e3e881ba25f8</td>\n",
       "      <td>185</td>\n",
       "      <td>308</td>\n",
       "      <td>Swap</td>\n",
       "      <td>0xe592427a0aece92de3edee1f18e0157c05861564</td>\n",
       "      <td>0x3b8ccaa89fcd432f1334d35b10ff8547001ce3e5</td>\n",
       "      <td>-10026667527943594868</td>\n",
       "      <td>3076438757863740</td>\n",
       "      <td>1386032315440134219844025713</td>\n",
       "      <td>379427976363351507096</td>\n",
       "      <td>-80922</td>\n",
       "    </tr>\n",
       "    <tr>\n",
       "      <th>4</th>\n",
       "      <td>12375729</td>\n",
       "      <td>0xb349853fe3e9c6069d8264202c9d68ad5b737919f0ca...</td>\n",
       "      <td>0x27b9278a88afa5ddcccf3c9878d3368d1ce4c058d477...</td>\n",
       "      <td>0xc2e9f25be6257c210d7adf0d4cd6e3e881ba25f8</td>\n",
       "      <td>53</td>\n",
       "      <td>151</td>\n",
       "      <td>Swap</td>\n",
       "      <td>0xe592427a0aece92de3edee1f18e0157c05861564</td>\n",
       "      <td>0x22f9dcf4647084d6c31b2765f6910cd85c178c18</td>\n",
       "      <td>10682019392695845455577</td>\n",
       "      <td>-3254228708039319328</td>\n",
       "      <td>1383838353700367458448734141</td>\n",
       "      <td>117516434432686612962365</td>\n",
       "      <td>-80954</td>\n",
       "    </tr>\n",
       "  </tbody>\n",
       "</table>\n",
       "</div>"
      ],
      "text/plain": [
       "   blockNumber                                    transactionHash  \\\n",
       "0     12369879  0x2bdb4298b35adf058a38dfbe85470f67da1cb76e1694...   \n",
       "1     12370126  0x1e268cf8d859b38f50d338aeaad6973b1335f5999f67...   \n",
       "2     12371051  0x5cdf9ec984fb0fe801cc529c003bcdd5271857103c19...   \n",
       "3     12371223  0x3d71709ade6b409b2223c6a3ef7356646f615d894802...   \n",
       "4     12375729  0xb349853fe3e9c6069d8264202c9d68ad5b737919f0ca...   \n",
       "\n",
       "                                           blockHash  \\\n",
       "0  0x7d81e60e5a2296dc38f36e343a7f3e416b1fc2f76656...   \n",
       "1  0x611e414d1b1238fdef1bea14555e42e72cb858e6957b...   \n",
       "2  0x3a83712fa13bed0da97d632a3a668860e904ad00c371...   \n",
       "3  0x40ec7fffbae4b145d12f8c8a8e340b3d3bfd81ffbd77...   \n",
       "4  0x27b9278a88afa5ddcccf3c9878d3368d1ce4c058d477...   \n",
       "\n",
       "                                      address  transactionIndex  logIndex  \\\n",
       "0  0xc2e9f25be6257c210d7adf0d4cd6e3e881ba25f8                40        91   \n",
       "1  0xc2e9f25be6257c210d7adf0d4cd6e3e881ba25f8                66        92   \n",
       "2  0xc2e9f25be6257c210d7adf0d4cd6e3e881ba25f8               111       361   \n",
       "3  0xc2e9f25be6257c210d7adf0d4cd6e3e881ba25f8               185       308   \n",
       "4  0xc2e9f25be6257c210d7adf0d4cd6e3e881ba25f8                53       151   \n",
       "\n",
       "  event                                      sender  \\\n",
       "0  Swap  0xe592427a0aece92de3edee1f18e0157c05861564   \n",
       "1  Swap  0xe592427a0aece92de3edee1f18e0157c05861564   \n",
       "2  Swap  0xe592427a0aece92de3edee1f18e0157c05861564   \n",
       "3  Swap  0xe592427a0aece92de3edee1f18e0157c05861564   \n",
       "4  Swap  0xe592427a0aece92de3edee1f18e0157c05861564   \n",
       "\n",
       "                                    recipient                  amount0  \\\n",
       "0  0x3b8ccaa89fcd432f1334d35b10ff8547001ce3e5    -33854155678824490173   \n",
       "1  0x74aa01d162e6dc6a657cac857418c403d48e2d77         -336093753482074   \n",
       "2  0x0459b3fbf7c1840ee03a63ca4aa95de48322322e   -331043258762748247602   \n",
       "3  0x3b8ccaa89fcd432f1334d35b10ff8547001ce3e5    -10026667527943594868   \n",
       "4  0x22f9dcf4647084d6c31b2765f6910cd85c178c18  10682019392695845455577   \n",
       "\n",
       "                amount1                  sqrtPriceX96  \\\n",
       "0     10000000000000000  1364573512386034424627810688   \n",
       "1          100000000000  1364573546772589608591144427   \n",
       "2    100000000000000000  1385391852998664492209230571   \n",
       "3      3076438757863740  1386032315440134219844025713   \n",
       "4  -3254228708039319328  1383838353700367458448734141   \n",
       "\n",
       "                  liquidity   tick  \n",
       "0      80059851033970806503 -81234  \n",
       "1     229713263233648638236 -81234  \n",
       "2     379427976363351507096 -80932  \n",
       "3     379427976363351507096 -80922  \n",
       "4  117516434432686612962365 -80954  "
      ]
     },
     "execution_count": 18,
     "metadata": {},
     "output_type": "execute_result"
    }
   ],
   "source": [
    "# An example of how to parse the data to a pandas dataframe\n",
    "swap_df = swap_to_dataframe(contract_events['Uniswap-DAI']['Swap'])\n",
    "swap_df.head()"
   ]
  }
 ],
 "metadata": {
  "kernelspec": {
   "display_name": "base",
   "language": "python",
   "name": "python3"
  },
  "language_info": {
   "codemirror_mode": {
    "name": "ipython",
    "version": 3
   },
   "file_extension": ".py",
   "mimetype": "text/x-python",
   "name": "python",
   "nbconvert_exporter": "python",
   "pygments_lexer": "ipython3",
   "version": "3.9.18"
  },
  "orig_nbformat": 4
 },
 "nbformat": 4,
 "nbformat_minor": 2
}
